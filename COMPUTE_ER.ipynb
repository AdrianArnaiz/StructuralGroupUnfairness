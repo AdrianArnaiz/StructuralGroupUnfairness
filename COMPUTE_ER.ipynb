{
 "cells": [
  {
   "cell_type": "code",
   "execution_count": 60,
   "metadata": {},
   "outputs": [],
   "source": [
    "import utils.torch_resistance_metrics as ermet\n",
    "import utils.data_loader as loader\n",
    "import torch\n",
    "import os\n",
    "import numpy as np\n",
    "import pickle\n",
    "from tqdm import tqdm"
   ]
  },
  {
   "cell_type": "code",
   "execution_count": 76,
   "metadata": {},
   "outputs": [],
   "source": [
    "PATHS = [\n",
    "'results/facebook_FOSR_weak_5000lnks_11_04_24__14_28_10/added_links.pt',\n",
    "'results/google_FOSR_weak_5000lnks_11_04_24__14_28_35/added_links.pt',\n",
    "'results/UNC28_FOSR_weak_5000lnks_11_04_24__14_32_13/added_links.pt'\n",
    "\n",
    "]"
   ]
  },
  {
   "cell_type": "code",
   "execution_count": 77,
   "metadata": {},
   "outputs": [
    {
     "name": "stdout",
     "output_type": "stream",
     "text": [
      "Loaded Graph with 1034 nodes and 26749 edges - L computation mode: exact\n",
      "facebook\n"
     ]
    },
    {
     "name": "stderr",
     "output_type": "stream",
     "text": [
      "100%|██████████| 10000/10000 [01:49<00:00, 91.27it/s]\n"
     ]
    },
    {
     "name": "stdout",
     "output_type": "stream",
     "text": [
      "Loaded Graph with 3508 nodes and 253930 edges - L computation mode: exact\n",
      "google\n"
     ]
    },
    {
     "name": "stderr",
     "output_type": "stream",
     "text": [
      "100%|██████████| 10000/10000 [16:14<00:00, 10.26it/s]\n"
     ]
    },
    {
     "name": "stdout",
     "output_type": "stream",
     "text": [
      "Loaded Graph with 3985 nodes and 65287 edges - L computation mode: exact\n",
      "UNC28\n"
     ]
    },
    {
     "name": "stderr",
     "output_type": "stream",
     "text": [
      "100%|██████████| 10000/10000 [20:00<00:00,  8.33it/s]\n"
     ]
    }
   ],
   "source": [
    "for link_path in PATHS:\n",
    "    output_path_folder = os.path.dirname(link_path)+os.sep\n",
    "\n",
    "    DATASET = link_path.split('/')[1].split('_')[0]\n",
    "    GW = loader.load_data(dataset = DATASET, device = 'cuda')\n",
    "    GW.mode = 'woodbury'\n",
    "    print(DATASET)\n",
    "\n",
    "    added_edges = torch.load(link_path).T\n",
    "\n",
    "    results_dict = {}\n",
    "    unique_groups = GW.sens.unique().cpu().detach().numpy()\n",
    "    for group in unique_groups:\n",
    "        results_dict[group] = {}\n",
    "        group_res = ermet.get_group_metrics(GW.get_effective_resistance().cpu().detach(),\n",
    "                                                GW.sens.cpu().detach()==group,\n",
    "                                                ~GW.edge_mask.cpu().detach())\n",
    "        for metric in group_res:\n",
    "            results_dict[group][metric] = [group_res[metric]]\n",
    "    for u,v in tqdm(added_edges):\n",
    "        if GW.is_edge(u,v):\n",
    "            assert torch.Tensor([v,u]) in added_edges\n",
    "        else:\n",
    "            GW.add_link(u,v)\n",
    "            Rcpu = GW.get_effective_resistance().cpu().detach()\n",
    "            for group in unique_groups:\n",
    "                group_res = ermet.get_group_metrics(Rcpu,\n",
    "                                                    GW.sens.cpu().detach()==group,\n",
    "                                                    ~GW.edge_mask.cpu().detach())\n",
    "                for metric in group_res:\n",
    "                    results_dict[group][metric].append(group_res[metric])\n",
    "\n",
    "\n",
    "    #* Save dict as pickle\n",
    "    with open(os.path.join(output_path_folder, 'results_dict.pkl'), 'wb') as f:\n",
    "        pickle.dump(results_dict, f)\n",
    "\n",
    "    #* Save effective resistance matrix\n",
    "    np.save(os.path.join(output_path_folder, 'R.npy'), GW.get_effective_resistance().cpu().detach().numpy())\n",
    "    \n"
   ]
  },
  {
   "cell_type": "code",
   "execution_count": 70,
   "metadata": {},
   "outputs": [],
   "source": []
  },
  {
   "cell_type": "code",
   "execution_count": null,
   "metadata": {},
   "outputs": [],
   "source": []
  },
  {
   "cell_type": "code",
   "execution_count": null,
   "metadata": {},
   "outputs": [],
   "source": []
  }
 ],
 "metadata": {
  "kernelspec": {
   "display_name": "effres",
   "language": "python",
   "name": "python3"
  },
  "language_info": {
   "codemirror_mode": {
    "name": "ipython",
    "version": 3
   },
   "file_extension": ".py",
   "mimetype": "text/x-python",
   "name": "python",
   "nbconvert_exporter": "python",
   "pygments_lexer": "ipython3",
   "version": "3.9.16"
  }
 },
 "nbformat": 4,
 "nbformat_minor": 2
}
