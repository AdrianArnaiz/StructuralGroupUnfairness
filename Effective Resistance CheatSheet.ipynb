{
 "cells": [
  {
   "cell_type": "markdown",
   "id": "4e16a516",
   "metadata": {},
   "source": [
    "# Effective Resistances, and its connections"
   ]
  },
  {
   "cell_type": "markdown",
   "id": "814d6708",
   "metadata": {},
   "source": [
    "## Preliminaries"
   ]
  },
  {
   "cell_type": "markdown",
   "id": "d1b857cd",
   "metadata": {},
   "source": [
    "### Edge Matrix\n",
    "\n",
    "$$\n",
    "\\mathbf{B} \\in \\mathbb{R}^{m\\times n}\n",
    "$$\n",
    "\n",
    "> * $\\mathbf{b}_e$ is the row of matrix $\\mathbf{B}$ associated with edge $e$ (1 and -1 in rows where nodes belong to that edge).\n",
    ">  * Entry $b_{e,u}$ at row corresponding to edge $e$ and column associated with vertex $u$ is: $b_{e,u}=1$ if vertex $u$ is the tail of $e$, $b_{e,u} = -1$ if vertex $u$ is the head of $e$, and $b_{e,u}=0$ otherwise.\n",
    "> * Also, $ \\mathbf{b}_e = \\mathbf{e}_u - \\mathbf{e}_v$ for $e = (u,v)$.\n",
    "\n"
   ]
  },
  {
   "cell_type": "markdown",
   "id": "746c88b4",
   "metadata": {},
   "source": [
    "### Laplacian\n",
    "\n",
    "$$\n",
    "L = D-A = \\Phi \\Lambda \\Phi^T = \\sum^n_i \\lambda_i \\phi_i \\phi_i^T = \\mathbf{B}^T\\mathbf{B} = \\sum_{e\\in E} \\mathbf{b}_e \\mathbf{b}_e^T\n",
    "$$\n",
    "\n",
    "$$\n",
    "\\mathcal{L}= D^{-1/2}LD^{-1/2} = \\hat{\\Phi} \\hat{\\Lambda} \\hat{\\Phi}^T\n",
    "$$\n",
    "\n",
    "$$\n",
    "L^+ = \\sum_{i>0} \\frac{1}{\\lambda_i} \\phi_i \\phi_i^T = \\left(L+\\frac{\\mathbf{1}\\mathbf{1}^T}{n}\\right)^{-1} - \\frac{\\mathbf{1}\\mathbf{1}^T}{n}\n",
    "$$\n",
    "\n",
    "[Yi et al., 2021]:\n",
    "\n",
    "$$\n",
    "L^{2+} = \\sum_{i>0} \\frac{1}{\\lambda_i^2} \\phi_i \\phi_i^T\n",
    "$$ \n"
   ]
  },
  {
   "cell_type": "markdown",
   "id": "fe23dd26",
   "metadata": {},
   "source": [
    "## Diffusion Processes"
   ]
  },
  {
   "cell_type": "markdown",
   "id": "1d26a9c2",
   "metadata": {},
   "source": [
    "### Electric potential\n",
    "[Kreuzer et al., 2021]\n",
    "\n",
    "$$\n",
    "G(u,v)=\\frac{1}{\\sqrt{d_u}\\sqrt{d_v}} \\sum_{i>0} \\frac{1}{\\lambda^2_i} \\left(\\hat{\\phi}_i(u) \\hat{\\phi}_i(v)\\right)^2\n",
    "$$\n",
    "\n",
    "### Heat Kernel Distance\n",
    "[Kreuzer et al., 2021]\n",
    "\n",
    "$$\n",
    "d^2_H(u,v)=\\sum_{i>0} e^{-2t\\lambda_i} \\left(\\phi_i(u)-\\phi_i(v)\\right)^2\n",
    "$$\n",
    "\n",
    "\n",
    "Solution on [Qiu and Hancock, 2005]\n",
    "$$\n",
    "d_t(u,v) = \\sum_{i>0} e^{-t\\lambda_i}\\left(\\hat{\\phi}_i(u) \\hat{\\phi}_i(v)\\right) \n",
    "$$\n",
    "\n",
    "\n",
    "Solution of the PDE [Hu Sun; Web PPT]: \n",
    "$\n",
    "\\frac{\\partial u}{\\partial t} + \\Delta u = 0\n",
    "$:\n",
    "\n",
    "$$\n",
    "\\mathbf{H}_t = e^{-t\\mathcal{L}} = \\hat{\\Phi} e^{-t\\hat{\\Lambda}} \\hat{\\Phi}^T = \\sum_0^\\infty \\frac{t^k e^{-t}}{k!}\\mathbf{P}^k\n",
    "$$\n",
    "\n",
    "$$\n",
    "d_t(u,v) = \\sum_{w\\in V} (\\mathbf{H}_t(w,u)-\\mathbf{H}_t(w,v))^2\n",
    "$$\n",
    "\n",
    "### Commute Times and Resitance Distance\n",
    "[Arnaiz-Rodriguez, Begga, Escolano, Oliver, 2022; ICLR2023 Outstanding]\n",
    "\n",
    "$$\n",
    "R_{u,v} = \\frac{\\tau(u,v)}{\\text{vol}(G)}=\\sum_{i>0} \\frac{1}{\\lambda_i} \\left(\\phi_i(u)-\\phi_i(v)\\right)^2\n",
    "$$\n",
    "\n",
    "$R_{uv}$ as the row differences of the pseudoinverse of the Laplacian\n",
    "$$\n",
    "R_{u,v} = (\\mathbf{e_i}-\\mathbf{e_j})^T L^+ (\\mathbf{e_i}-\\mathbf{e_i}) = (L^+_{ii}-L^+_{ji}) - (L^+_{ij}-L^+_{jj}) = L^+_{ii} + L^+_{jj} - 2 L^+_{ij} = (L^+_{i,:}-L^+_{j,:})_i -(L^+_{i,:}-L^+_{j,:})_j\n",
    "$$\n",
    "\n",
    "$$\n",
    "\\mathbf{R} \\in \\mathbb{R}^{n\\times n}  = \\mathbf{1} \\text{diag}(L^+)^T + \\text{diag}(L^+)\\mathbf{1}^T  - 2L^+\n",
    "$$\n",
    "\n",
    "In terms of RW [Lyons 2017]:\n",
    "\n",
    "$$\\tau(u,v) = \\mathbb{E}_u[v] + \\mathbb{E}_v[u]$$\n",
    "\n",
    "In [Tetali, 91]:\n",
    "\n",
    "$$|V|-1 = \\sum_{(u,v)\\in E} R_{u,v}$$\n",
    "\n",
    "\n",
    "### Biharmonic Distance\n",
    "[Lipman et al., 2010; Kreuzer et al., 2021; Yi et al., 2018; Yi et al., 2022; Weit et al., 2022]\n",
    "\n",
    "$$\n",
    "d^2_B(u,v)=\\sum_{i>0} \\frac{1}{\\lambda^2_i} \\left(\\phi_i(u)-\\phi_i(v)\\right)^2\n",
    "$$\n",
    "\n",
    "$$\n",
    "d_B(u,v)= \\sqrt{\\sum_{i>0} \\frac{1}{\\lambda^2_i} \\left(\\phi_i(u)-\\phi_i(v)\\right)^2}\n",
    "$$\n",
    "\n",
    "$$\n",
    "d^2_B(u,v)= (\\mathbf{e_i}-\\mathbf{e_j})^T L^{2+} (\\mathbf{e_i}-\\mathbf{e_i})\n",
    "$$\n",
    "\n",
    "$$\n",
    "d^2_B(u,v)= L^{2+}_{ii} + L^{2+}_{jj} - 2 L^{2+}_{ij} \n",
    "$$"
   ]
  },
  {
   "cell_type": "markdown",
   "id": "716625b6",
   "metadata": {},
   "source": []
  },
  {
   "cell_type": "markdown",
   "id": "13cbd2ae",
   "metadata": {},
   "source": []
  },
  {
   "cell_type": "code",
   "execution_count": null,
   "id": "388da997",
   "metadata": {},
   "outputs": [],
   "source": []
  },
  {
   "cell_type": "markdown",
   "id": "414f102f",
   "metadata": {},
   "source": [
    "### Derivated Metrics"
   ]
  },
  {
   "cell_type": "markdown",
   "id": "0d2681b1",
   "metadata": {},
   "source": [
    "#### Derivated metrics from ER\n",
    "\n",
    "* Total ER\n",
    "\n",
    "* R diam\n",
    "\n",
    "* Total ER filtrada: betweeness\n",
    "\n",
    "* Cover time"
   ]
  },
  {
   "cell_type": "markdown",
   "id": "a82ea37d",
   "metadata": {},
   "source": [
    "#### Derivated from Biharmonic\n",
    "\n",
    "* Graph biharmonic Index = Total ER pero en biharmonic\n",
    "* Vertex biharmonic Index: node total ER. Yi et al 2022"
   ]
  },
  {
   "cell_type": "code",
   "execution_count": null,
   "id": "a2133d02",
   "metadata": {},
   "outputs": [],
   "source": []
  },
  {
   "cell_type": "markdown",
   "id": "4a2f0295",
   "metadata": {},
   "source": [
    "### Properties: bounds, gradients, relationships...\n",
    "\n",
    "#### Biharmonic Distance\n",
    "[Ghosh et al., 2008; Black et al., 2023]. More properties and bounds like Chegegr in Wei 2022 and Yi 2018 and 2021\n",
    "\n",
    "#### Biharmonic Distance and Effective Resistance\n",
    "[Ghosh et al., 2008; Black et al., 2023]\n",
    "The biharmonic distance between $u$ and $v$ is proportional to the partial derivative of the total resistance with respect to the weight of the edge. When adding a new edge, then $L'=L+(\\mathbf{e_i}-\\mathbf{e_j})(\\mathbf{e_i}-\\mathbf{e_j})^T$. Therefore\n",
    "\n",
    "$$\\frac{\\partial R_{tot}}{\\partial w_{u,v}}=-n \\cdot B_{u,v}$$\n",
    "\n",
    "$$\n",
    "R_{tot}(G) - R_{tot}(G \\cup \\{u,v\\}) = n \\cdot \\frac{B_{u,v}}{1+R_{u,v}}\n",
    "$$\n",
    "\n",
    "\n",
    "#### Cover Time\n",
    "\n",
    "[Hamaker 2011]\n",
    "$$m\\mathcal{R}_{diam}\\leq C_G \\leq 2m\\mathcal{R}_{diam}(1+\\log n)$$"
   ]
  },
  {
   "cell_type": "code",
   "execution_count": null,
   "id": "57c98165",
   "metadata": {},
   "outputs": [],
   "source": []
  },
  {
   "cell_type": "markdown",
   "id": "8ce8b95e",
   "metadata": {},
   "source": [
    "* If the edge is a cut then $R_{uv}=1$\n",
    "* $R_{uv}$ is the probability that that edge appear in a random spanning tree $R_{uv}= \\mathbb{P}[(u,v)\\in \\mathbf{T}]$\n",
    "* The Betweeness of an node is $B_r(u) = \\sum_{v \\in \\mathcal{N}(u)} R_{uv}= \\sum_{v\\in \\mathcal{N}(u)} \\mathbb{P}[(u,v)\\in \\mathbf{T}]$\n",
    "* The Betweeness of an node is lower bounded by 1, since if I cut all the links, I isolate the node and I cut the graph.\n",
    "* The betweenes has relationship eith the curvature since $\\mathcal{K}(u) = 1 - \\frac{1}{2} B_R(u)$\n",
    "* The sum of all betweneess is 2N-2 and the sum of all curvatures is 1.\n",
    "* The lower bound betweenes is 1 and the upper bound of curvature is 0.5"
   ]
  },
  {
   "cell_type": "code",
   "execution_count": null,
   "id": "ae7660f6",
   "metadata": {},
   "outputs": [],
   "source": []
  },
  {
   "cell_type": "code",
   "execution_count": null,
   "id": "4742dc33",
   "metadata": {},
   "outputs": [],
   "source": []
  },
  {
   "cell_type": "code",
   "execution_count": null,
   "id": "13516e4a",
   "metadata": {},
   "outputs": [],
   "source": []
  },
  {
   "cell_type": "markdown",
   "id": "9c344f75",
   "metadata": {},
   "source": [
    "## References\n",
    "\n",
    "* [Kreuzer et al., 2021] Rethinking Graph Transformers with expectral attention (SAN)\n",
    "* Ghosh, A., Boyd, S., & Saberi, A. (2008). Minimizing effective resistance of a graph. SIAM review, 50(1), 37-66.\n",
    "* Black, M., Nayyeri, A., Wan, Z., & Wang, Y. (2023). Understanding Oversquashing in GNNs through the Lens of Effective Resistance. arXiv preprint arXiv:2302.06835.\n",
    "* Heat Kernels in Graphs: A Journey from Random Walks to Geometry, and Back. Hu Sun. University of Bristol https://homepages.inf.ed.ac.uk/hsun4/PDE.pdf\n",
    "* Qiu, H., & Hancock, E. R. (2005). Image Segmentation using Commute Times. In BMVC (pp. 929-938).\n",
    "* Lipman, Y., Rustamov, R. M., & Funkhouser, T. A. (2010). Biharmonic distance. ACM Transactions on Graphics (TOG), 29(3), 1-11.\n",
    "* Wei, Y., Li, R. H., & Yang, W. (2021). Biharmonic distance of graphs. arXiv preprint arXiv:2110.02656.\n",
    "* Yi, Y., Yang, B., Zhang, Z., Zhang, Z., & Patterson, S. (2021). Biharmonic distance-based performance metric for second-order noisy consensus networks. IEEE Transactions on Information Theory, 68(2), 1220-1236.\n",
    "* Y. Yi, B. Yang, Z. Zhang, S. Patterson, Biharmonic distance and the performance of second-order consensus networks with stochastic disturbances, in 2018 \n",
    "* PhD Thesis. http://www.bmva.org/theses/2007/2007-bai.pdf. Heat Kernel Analysis on Graphs\n",
    "* Lyons, R., & Peres, Y. (2017). Probability on trees and networks (Vol. 42). Cambridge University Press.\n",
    "* Hamaker, Z. (2011). Electric Networks and Commute Time.\n",
    "* Tetali, P. (1991). Random walks and the effective resistance of networks. Journal of Theoretical Probability, 4(1), 101–109. doi:10.1007/bf01046996"
   ]
  },
  {
   "cell_type": "code",
   "execution_count": null,
   "id": "6532f646",
   "metadata": {},
   "outputs": [],
   "source": []
  }
 ],
 "metadata": {
  "kernelspec": {
   "display_name": "Python 3 (ipykernel)",
   "language": "python",
   "name": "python3"
  },
  "language_info": {
   "codemirror_mode": {
    "name": "ipython",
    "version": 3
   },
   "file_extension": ".py",
   "mimetype": "text/x-python",
   "name": "python",
   "nbconvert_exporter": "python",
   "pygments_lexer": "ipython3",
   "version": "3.8.16"
  }
 },
 "nbformat": 4,
 "nbformat_minor": 5
}
