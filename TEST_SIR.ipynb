{
 "cells": [
  {
   "cell_type": "markdown",
   "metadata": {},
   "source": [
    "# SIR MODEL - NDL\n",
    "**Network Diffusion Library** https://ndlib.readthedocs.io/en/latest/reference/reference.html\n",
    "\n",
    "In the code below is shown an example of instantiation and execution of an SIR simulation on a random graph: we set the initial set of infected nodes as 5% of the overall population, a probability of infection of 1%, and a removal probability of 0.5%.\n"
   ]
  },
  {
   "cell_type": "code",
   "execution_count": 462,
   "metadata": {},
   "outputs": [],
   "source": [
    "import networkx as nx\n",
    "import ndlib.models.ModelConfig as mc\n",
    "import ndlib.models.epidemics as ep\n",
    "\n",
    "from utils.sdrf import sdrf\n",
    "from utils import fosr\n",
    "import utils.data_loader as loader\n",
    "\n",
    "import numpy as np\n",
    "import torch\n",
    "import matplotlib.pyplot as plt\n",
    "from matplotlib.colors import ListedColormap\n",
    "\n",
    "import copy\n",
    "import os\n",
    "import pickle\n",
    "import warnings\n",
    "\n",
    "warnings.filterwarnings(\"ignore\")\n",
    "%matplotlib inline"
   ]
  },
  {
   "cell_type": "code",
   "execution_count": 463,
   "metadata": {},
   "outputs": [],
   "source": [
    "def get_cosine(GW):\n",
    "    from sklearn.metrics.pairwise import cosine_similarity\n",
    "    from scipy.sparse import coo_matrix\n",
    "\n",
    "    edge_index = GW.edgelist.detach().cpu()\n",
    "    n = GW.num_nodes\n",
    "    adj_sparse = coo_matrix((np.ones(edge_index.shape[1]), (edge_index[0], edge_index[1])),\n",
    "                        shape=(n, n))\n",
    "\n",
    "    # Compute cosine similarity using sklearn\n",
    "    cos_sim = cosine_similarity(adj_sparse)\n",
    "\n",
    "    return torch.Tensor(cos_sim)\n",
    "\n",
    "def get_strongest_link2(score, edge_mask, n = None):\n",
    "    score[torch.logical_not(edge_mask)]=torch.inf\n",
    "    min = score.min().item()\n",
    "    argmins = (score == min).nonzero()\n",
    "    rand_argmin = np.random.choice(argmins.squeeze().shape[0])\n",
    "    u = argmins[rand_argmin][0]\n",
    "    v = argmins[rand_argmin][1]\n",
    "    return u,v\n",
    "    #n = score.shape[0] if n is None else n\n",
    "    #u, v = divmod(argmin, n)\n",
    "    return argmins#, u, v\n",
    "\n",
    "def get_weakest_link2(score, edge_mask, n = None):\n",
    "    argmax = (score*edge_mask).argmax().item() #detach and cpu on call\n",
    "    n = score.shape[0] if n is None else n\n",
    "    u, v = divmod(argmax, n)\n",
    "    return u, v\n",
    "\n",
    "#from standard deviation to 95% CI\n",
    "import scipy.stats as st\n",
    "def CI(std, runs, confidence=0.95):\n",
    "    return 1.96 * (std/np.sqrt(runs))"
   ]
  },
  {
   "cell_type": "code",
   "execution_count": 464,
   "metadata": {},
   "outputs": [],
   "source": [
    "from utils.GraphWrapper import GraphWrapper\n",
    "import utils.link_addition_torch as lkadd\n",
    "from tqdm import tqdm\n",
    "def add_links(GW, N_LINKS, MODEL):\n",
    "    if not MODEL in ['fosr', 'sdrf']:\n",
    "        for i in tqdm(range(N_LINKS)):\n",
    "            #* Get score\n",
    "            if MODEL == 'random':\n",
    "                u, v = lkadd.get_random_link(GW.edge_mask)\n",
    "            elif MODEL == 'ERP':\n",
    "                S = GW.get_effective_resistance()\n",
    "\n",
    "            elif MODEL == 'cosine':\n",
    "                S = get_cosine(GW)\n",
    "            else:\n",
    "                opt_args = {'dim': 128, 'walk_length': 40, 'window_size': 10, 'workers': 4} if MODEL == 'deepwalk' else  {}\n",
    "                S = lkadd.get_edge_score(GW, MODEL, **opt_args)\n",
    "\n",
    "            #* Select edge based on score\n",
    "            if MODEL != 'random':\n",
    "                if MODEL == 'ERP':\n",
    "                    u,v = lkadd.get_weakest_link(S.cpu().detach(), GW.edge_mask.cpu().detach(), GW.num_nodes)\n",
    "                elif MODEL == 'cosine':\n",
    "                    u,v = get_strongest_link2(S.cpu().detach(), GW.edge_mask.cpu().detach(), GW.num_nodes)\n",
    "                else:\n",
    "                    u,v = lkadd.get_strongest_link(S.cpu().detach(), GW.edge_mask.cpu().detach(), GW.num_nodes)\n",
    "            #print(S.min().item(), S.max().item(), S[u,v].item())\n",
    "            \n",
    "            if GW.is_edge(u,v):\n",
    "                raise Exception('Edge already exists')\n",
    "            else:\n",
    "                GW.add_link(u,v)\n",
    "    else:\n",
    "        if MODEL == 'sdrf':\n",
    "            GW, added_links_sdrf = sdrf(copy.deepcopy(GW), loops=N_LINKS, remove_edges=False, removal_bound=2, is_undirected=True, tau=0.9)\n",
    "            #G_sdrf = G.copy()\n",
    "            #for e in added_links_sdrf:\n",
    "            #    G_sdrf.add_edge(e[0],e[1])\n",
    "        elif MODEL == 'fosr':\n",
    "            new_edgelist_fosr = fosr.edge_rewire(copy.deepcopy(GW).edgelist.numpy(), num_iterations=N_LINKS, initial_power_iters=100)[0]\n",
    "            # added_links_fosr to list\n",
    "            #added_links_fosr = new_edgelist_fosr[:,-N_LINKS*2:].T.tolist()\n",
    "            #G_fosr = G.copy()\n",
    "            #for e in added_links_fosr:\n",
    "            #    G_fosr.add_edge(e[0],e[1])\n",
    "            GW = GraphWrapper(edgelist=torch.LongTensor(new_edgelist_fosr))\n",
    "        else:\n",
    "            raise Exception('Model not supported')\n",
    "\n",
    "    return GW"
   ]
  },
  {
   "cell_type": "markdown",
   "metadata": {},
   "source": [
    "**IC MODEL**"
   ]
  },
  {
   "cell_type": "code",
   "execution_count": 465,
   "metadata": {},
   "outputs": [],
   "source": [
    "#! SIR and IC models\n",
    "\n",
    "def SIR(G, beta=0.005, lambda_sir=0.00, fraction_infected=0.001, iterations=100):\n",
    "    \"\"\"SIR model: susceptible-infected-recovered model\n",
    "\n",
    "    Args:\n",
    "        G (_type_): _description_\n",
    "        beta (float, optional): beta is the infection rate. Defaults to 0.005.\n",
    "        lambda_sir (float, optional): lambda represents the recovery rate.\n",
    "        fraction_infected (float, optional): fraction_infected is the fraction of infected nodes at the beginning of the simulation. Defaults to 0.001.\n",
    "        iterations (int, optional): iterations is the number of iterations the simulation will run. Defaults to 100.\n",
    "\n",
    "    Returns:\n",
    "        _type_: _description_\n",
    "    \"\"\"\n",
    "\n",
    "    # Model selection\n",
    "    #model = ep.SIRModel(G)\n",
    "    model = ep.SISModel(G)\n",
    "\n",
    "    # Model Configuration\n",
    "    cfg = mc.Configuration()\n",
    "    cfg.add_model_parameter('beta', beta)\n",
    "    #cfg.add_model_parameter('gamma', 0.00)\n",
    "    cfg.add_model_parameter('lambda', lambda_sir)\n",
    "    cfg.add_model_parameter(\"fraction_infected\", fraction_infected)\n",
    "    model.set_initial_status(cfg)\n",
    "\n",
    "    # Simulation execution\n",
    "    history = model.iteration_bunch(iterations)\n",
    "    return history\n",
    "\n",
    "\n",
    "def IC_model(G, initial_infected=0.1, threshold=0.2, iterations_IC=100, initial_inf_nodes = None):\n",
    "    # Model selection\n",
    "    model = ep.IndependentCascadesModel(G)\n",
    "\n",
    "    # Model Configuration\n",
    "    config = mc.Configuration()\n",
    "    if initial_inf_nodes is None:\n",
    "        raise Exception('initial_inf_nodes must be specified')\n",
    "    #config.add_model_parameter('fraction_infected', initial_infected)\n",
    "    else:\n",
    "        config.add_model_initial_configuration('Infected', initial_inf_nodes)\n",
    "\n",
    "    # Setting the edge parameters\n",
    "    for e in G.edges():\n",
    "        config.add_edge_configuration(\"threshold\", e, threshold)\n",
    "\n",
    "    model.set_initial_status(config)\n",
    "\n",
    "    # Simulation execution\n",
    "    iterations = model.iteration_bunch(iterations_IC)\n",
    "\n",
    "    return model, iterations"
   ]
  },
  {
   "cell_type": "code",
   "execution_count": null,
   "metadata": {},
   "outputs": [],
   "source": []
  },
  {
   "cell_type": "markdown",
   "metadata": {},
   "source": [
    "**RUN IC model**"
   ]
  },
  {
   "cell_type": "code",
   "execution_count": 466,
   "metadata": {},
   "outputs": [
    {
     "name": "stdout",
     "output_type": "stream",
     "text": [
      "Loaded Graph with 3508 nodes and 253930 edges - L computation mode: exact\n"
     ]
    },
    {
     "data": {
      "text/plain": [
       "(253930, 3508)"
      ]
     },
     "execution_count": 466,
     "metadata": {},
     "output_type": "execute_result"
    }
   ],
   "source": [
    "DATASET = 'google' #'facebook'\n",
    "DEVICE = 'cuda'\n",
    "N_LINKS = 500\n",
    "\n",
    "GW = loader.load_data(DATASET, device=DEVICE)\n",
    "GW.num_edges, GW.num_nodes"
   ]
  },
  {
   "cell_type": "code",
   "execution_count": 467,
   "metadata": {},
   "outputs": [
    {
     "data": {
      "text/plain": [
       "{0.0: 2196, 1.0: 1312}"
      ]
     },
     "execution_count": 467,
     "metadata": {},
     "output_type": "execute_result"
    }
   ],
   "source": [
    "def get_groups(data): \n",
    "    if data == 'google':\n",
    "        rename_groups = {\n",
    "            1:'Male',\n",
    "            0:'Female',\n",
    "        }\n",
    "        male=1\n",
    "        female=0\n",
    "    else:\n",
    "        rename_groups = {\n",
    "            1:'Female',\n",
    "            0:'Male'\n",
    "        }\n",
    "        male=0\n",
    "        female=1\n",
    "    return rename_groups, male, female\n",
    "_, male, female = get_groups(DATASET)\n",
    "unique_values, counts = torch.unique(GW.sens, return_counts=True)\n",
    "attribute_counts = dict(zip(unique_values.tolist(), counts.tolist()))\n",
    "attribute_counts"
   ]
  },
  {
   "cell_type": "markdown",
   "metadata": {},
   "source": [
    "**Load data**"
   ]
  },
  {
   "cell_type": "code",
   "execution_count": 468,
   "metadata": {},
   "outputs": [],
   "source": [
    "def load_augmented_graph_IC(dataset_name, num_added_links):\n",
    "    GW = loader.load_data(DATASET, device=DEVICE)\n",
    "    if os.path.exists(f'temp_data/{dataset_name}_NLINKS_{num_added_links}_ERP.pkl'):\n",
    "        with open(f'temp_data/{dataset_name}_NLINKS_{num_added_links}_ERP.pkl', 'rb') as f:\n",
    "            GW_erp = pickle.load(f)\n",
    "        with open(f'temp_data/{dataset_name}_NLINKS_{num_added_links}_COS.pkl', 'rb') as f:\n",
    "            GW_cos = pickle.load(f)\n",
    "        with open(f'temp_data/{dataset_name}_NLINKS_{num_added_links}_RAND.pkl', 'rb') as f:\n",
    "            GW_rand = pickle.load(f)\n",
    "        with open(f'temp_data/{dataset_name}_NLINKS_{num_added_links}_FOSR.pkl', 'rb') as f:\n",
    "            GW_fosr = pickle.load(f)\n",
    "        with open(f'temp_data/{dataset_name}_NLINKS_{num_added_links}_SDRF.pkl', 'rb') as f:\n",
    "            GW_sdrf = pickle.load(f)\n",
    "    else:\n",
    "        if not os.path.exists('temp_data'):\n",
    "            os.makedirs('temp_data')\n",
    "        GW_cos = add_links(copy.copy(GW), num_added_links, 'cosine')\n",
    "        with open(f'temp_data/{dataset_name}_NLINKS_{num_added_links}_COS.pkl', 'wb') as f:\n",
    "            pickle.dump(GW_cos, f)\n",
    "        GW_rand = add_links(copy.copy(GW), num_added_links, 'random')\n",
    "        with open(f'temp_data/{dataset_name}_NLINKS_{num_added_links}_RAND.pkl', 'wb') as f:\n",
    "            pickle.dump(GW_rand, f)  \n",
    "        GW_erp = add_links(copy.copy(GW), num_added_links, 'ERP')\n",
    "        with open(f'temp_data/{dataset_name}_NLINKS_{num_added_links}_ERP.pkl', 'wb') as f:\n",
    "            pickle.dump(GW_erp, f)\n",
    "        GW_fosr = add_links(copy.copy(GW), num_added_links, 'fosr')\n",
    "        with open(f'temp_data/{dataset_name}_NLINKS_{num_added_links}_FOSR.pkl', 'wb') as f:\n",
    "            pickle.dump(GW_fosr, f)\n",
    "        GW_sdrf = add_links(copy.copy(GW), num_added_links, 'sdrf')\n",
    "        with open(f'temp_data/{dataset_name}_NLINKS_{num_added_links}_SDRF.pkl', 'wb') as f:\n",
    "            pickle.dump(GW_sdrf, f)\n",
    "\n",
    "    return {'G':GW, 'ERP': GW_erp, 'COS': GW_cos, 'RAND': GW_rand, 'FOSR': GW_fosr, 'SDRF': GW_sdrf}"
   ]
  },
  {
   "cell_type": "code",
   "execution_count": 469,
   "metadata": {},
   "outputs": [
    {
     "name": "stdout",
     "output_type": "stream",
     "text": [
      "Loaded Graph with 3508 nodes and 253930 edges - L computation mode: exact\n"
     ]
    }
   ],
   "source": [
    "wrappers = load_augmented_graph_IC(DATASET, N_LINKS)"
   ]
  },
  {
   "cell_type": "code",
   "execution_count": null,
   "metadata": {},
   "outputs": [],
   "source": []
  },
  {
   "cell_type": "code",
   "execution_count": 470,
   "metadata": {},
   "outputs": [],
   "source": [
    "GW = wrappers['G']\n",
    "GW_erp = wrappers['ERP']\n",
    "GW_cos = wrappers['COS']\n",
    "GW_rand = wrappers['RAND']\n",
    "GW_fosr = wrappers['FOSR']\n",
    "GW_sdrf = wrappers['SDRF']\n",
    "\n",
    "for gg in wrappers:\n",
    "    if wrappers[gg].sens is None:\n",
    "        wrappers[gg].sens = torch.Tensor(GW.sens)"
   ]
  },
  {
   "cell_type": "code",
   "execution_count": 471,
   "metadata": {},
   "outputs": [
    {
     "name": "stdout",
     "output_type": "stream",
     "text": [
      "Total effective resistance\n",
      "    Original:\t 1616110.5\n",
      "    Cosine:\t 1309812.0\n",
      "    ERP:\t 790829.2\n",
      "    FOSR:\t 1539879.0\n",
      "    SDRF:\t 789954.2\n",
      "    Random:\t 1222870.8\n"
     ]
    }
   ],
   "source": [
    "R_ori = GW.get_effective_resistance()\n",
    "R_cos = GW_cos.get_effective_resistance()\n",
    "R_erp = GW_erp.get_effective_resistance()\n",
    "R_fosr = GW_fosr.get_effective_resistance()\n",
    "R_sdfr = GW_sdrf.get_effective_resistance()\n",
    "R_rand = GW_rand.get_effective_resistance()\n",
    "\n",
    "print(f\"\"\"Total effective resistance\n",
    "    Original:\\t {R_ori.sum().item():.1f}\n",
    "    Cosine:\\t {R_cos.sum().item():.1f}\n",
    "    ERP:\\t {R_erp.sum().item():.1f}\n",
    "    FOSR:\\t {R_fosr.sum().item():.1f}\n",
    "    SDRF:\\t {R_sdfr.sum().item():.1f}\n",
    "    Random:\\t {R_rand.sum().item():.1f}\"\"\")\n"
   ]
  },
  {
   "cell_type": "code",
   "execution_count": 472,
   "metadata": {},
   "outputs": [],
   "source": [
    "def to_nx(GWr, node_attribute):\n",
    "    gg = nx.Graph()\n",
    "    gg.add_edges_from(GWr.edgelist.T.numpy())\n",
    "    nx.set_node_attributes(gg, {i:node_attribute[i] for i in range(GWr.num_nodes)}, 'sens')\n",
    "    return gg"
   ]
  },
  {
   "cell_type": "code",
   "execution_count": 473,
   "metadata": {},
   "outputs": [
    {
     "data": {
      "text/plain": [
       "(253930, 254430, 254430, 254430, 254430)"
      ]
     },
     "execution_count": 473,
     "metadata": {},
     "output_type": "execute_result"
    }
   ],
   "source": [
    "#from edgelist to networkx\n",
    "wrappers_nx = dict()\n",
    "\n",
    "G = to_nx(GW, GW.sens)\n",
    "G_erp = to_nx(GW_erp, GW_erp.sens)\n",
    "G_cos = to_nx(GW_cos, GW_cos.sens)\n",
    "G_rand = to_nx(GW_rand, GW_rand.sens)\n",
    "G_fosr = to_nx(GW_fosr, GW.sens)\n",
    "G_sdrf = to_nx(GW_sdrf, GW_sdrf.sens)\n",
    "\n",
    "wrappers_nx = {'G':G, 'ERP': G_erp, 'COS': G_cos, 'RAND': G_rand, 'FOSR': G_fosr, 'SDRF': G_sdrf}\n",
    "\n",
    "G.number_of_edges(), G_erp.number_of_edges(), G_cos.number_of_edges(), G_rand.number_of_edges(), G_fosr.number_of_edges()"
   ]
  },
  {
   "cell_type": "code",
   "execution_count": 27,
   "metadata": {},
   "outputs": [],
   "source": []
  },
  {
   "cell_type": "markdown",
   "metadata": {},
   "source": [
    "## Get seed nodes"
   ]
  },
  {
   "cell_type": "code",
   "execution_count": 474,
   "metadata": {},
   "outputs": [
    {
     "data": {
      "text/plain": [
       "(10, [10, 12, 1610, 133, 183], 87)"
      ]
     },
     "execution_count": 474,
     "metadata": {},
     "output_type": "execute_result"
    }
   ],
   "source": [
    "#get node of min degree from G\n",
    "min_degree_node, min_degree = min(G.degree, key=lambda x: x[1])\n",
    "top_min_degree_nodes = [xx[0] for xx in sorted(G.degree, key=lambda x: x[1])[:5]]\n",
    "nodes_min_degree = [xx[0] for xx in sorted(G.degree, key=lambda x: x[1]) if xx[1] == min_degree]\n",
    "min_degree_node, top_min_degree_nodes, len(nodes_min_degree)"
   ]
  },
  {
   "cell_type": "code",
   "execution_count": 475,
   "metadata": {},
   "outputs": [
    {
     "data": {
      "text/plain": [
       "((tensor([0., 1.], device='cuda:0'), tensor([84,  3], device='cuda:0')),\n",
       " 'male=1',\n",
       " 'female=0')"
      ]
     },
     "execution_count": 475,
     "metadata": {},
     "output_type": "execute_result"
    }
   ],
   "source": [
    "GW.sens[nodes_min_degree].unique(return_counts=True), f'male={male}', f'female={female}',"
   ]
  },
  {
   "cell_type": "code",
   "execution_count": 476,
   "metadata": {},
   "outputs": [
    {
     "data": {
      "text/plain": [
       "(1, 5, 2, 2)"
      ]
     },
     "execution_count": 476,
     "metadata": {},
     "output_type": "execute_result"
    }
   ],
   "source": [
    "G.degree[min_degree_node], G_erp.degree[min_degree_node], G_cos.degree[min_degree_node], G_rand.degree[min_degree_node]"
   ]
  },
  {
   "cell_type": "code",
   "execution_count": 477,
   "metadata": {},
   "outputs": [
    {
     "data": {
      "text/plain": [
       "(30, dict_keys(['iteration', 'status', 'node_count', 'status_delta']))"
      ]
     },
     "execution_count": 477,
     "metadata": {},
     "output_type": "execute_result"
    }
   ],
   "source": [
    "#Does IC work?\n",
    "_, iter_ex = IC_model(G, initial_inf_nodes=[0], threshold=0.2, iterations_IC=30)\n",
    "len(iter_ex), iter_ex[0].keys()"
   ]
  },
  {
   "cell_type": "code",
   "execution_count": null,
   "metadata": {},
   "outputs": [],
   "source": []
  },
  {
   "cell_type": "markdown",
   "metadata": {},
   "source": [
    "## Diff infection by sensitive attribute"
   ]
  },
  {
   "cell_type": "code",
   "execution_count": 478,
   "metadata": {},
   "outputs": [
    {
     "data": {
      "text/plain": [
       "(tensor(287.6490, device='cuda:0'),\n",
       " tensor(564.0778, device='cuda:0'),\n",
       " tensor(276.4288, device='cuda:0'))"
      ]
     },
     "execution_count": 478,
     "metadata": {},
     "output_type": "execute_result"
    }
   ],
   "source": [
    "#**Do nodes get more information from a group or from the other group?**\n",
    "R = GW.get_effective_resistance()\n",
    "\n",
    "R_male_cols = R[:, GW.sens==male]\n",
    "R_female_cols = R[:, GW.sens==female]\n",
    "\n",
    "R_u_from_male = R[:, GW.sens==male].mean(axis=1)\n",
    "R_u_from_female = R[:, GW.sens==female].mean(axis=1)\n",
    "\n",
    "R_from_male = R_u_from_male.sum()\n",
    "R_from_female = R_u_from_female.sum()\n",
    "R_from_male, R_from_female, R_from_female - R_from_male"
   ]
  },
  {
   "cell_type": "code",
   "execution_count": 479,
   "metadata": {},
   "outputs": [],
   "source": [
    "#! functions--> run_IC and process_infected_evolution\n",
    "def run_IC(G, initial_inf_nodes=None, threshold=None, iterations_IC=None , runs = None):\n",
    "    iterations_G = []\n",
    "    if initial_inf_nodes is None:\n",
    "        raise Exception('initial_inf_nodes must be specified')\n",
    "\n",
    "\n",
    "    for it in tqdm(range(runs)):\n",
    "        seed_infected = initial_inf_nodes[it] if initial_inf_nodes.ndim ==2 else [initial_inf_nodes[it]]\n",
    "        _, iter_G = IC_model(G,\n",
    "                            initial_inf_nodes=seed_infected , \n",
    "                            threshold=threshold, iterations_IC=iterations_IC)\n",
    "        iterations_G.append(iter_G)\n",
    "        \n",
    "    return iterations_G\n",
    "\n",
    "    #iterations_G.append([iteration['node_count'][1]+iteration['node_count'][2] for iteration in iter_G])\n",
    "#iterations_G = np.array(iterations_G)\n",
    "\n",
    "def process_infected_evolution(iterations_G, GW, male, female):\n",
    "    \"\"\"\n",
    "    Processes the infection evolution across runs and iterations.\n",
    "\n",
    "    Parameters:\n",
    "    iterations_G: List of dictionaries, where each dictionary contains infection status across multiple iterations.\n",
    "    GW: A graph or network object that contains node attributes like 'sens'.\n",
    "    male: The value representing male attribute in 'sens'.\n",
    "    female: The value representing female attribute in 'sens'.\n",
    "\n",
    "    Returns:\n",
    "    infected_evolution: Numpy array of shape (RUNS, IC_ITERS), showing the number of infected nodes at each iteration.\n",
    "    infection_evolution_male: Numpy array of shape (RUNS, IC_ITERS), showing the number of infected male nodes.\n",
    "    infection_evolution_female: Numpy array of shape (RUNS, IC_ITERS), showing the number of infected female nodes.\n",
    "    [DISABLED] infected_nodes_idx: A dictionary mapping each run to a set of infected nodes.\n",
    "    \"\"\"\n",
    "\n",
    "    # Initialize outputs\n",
    "    infected_nodes_idx = {i: set() for i in range(len(iterations_G))}\n",
    "    infected_evolution = np.zeros((len(iterations_G), len(iterations_G[0])))\n",
    "    infection_evolution_male = np.zeros((len(iterations_G), len(iterations_G[0])))\n",
    "    infection_evolution_female = np.zeros((len(iterations_G), len(iterations_G[0])))\n",
    "\n",
    "    # Main processing loop\n",
    "    for i, iterations in enumerate(iterations_G):  # Loop through runs\n",
    "        for j, exp_iter in enumerate(iterations):  # Loop through iterations in each run\n",
    "            infected_iter_idx = [node for node in exp_iter['status'] if exp_iter['status'][node] == 1]\n",
    "            infected_evolution[i][j] = len(infected_iter_idx)\n",
    "            infected_nodes_idx[i].update(infected_iter_idx)\n",
    "\n",
    "            # Extracting attributes (male/female) from the infected nodes\n",
    "            attribute_infected = GW.sens[sorted(infected_nodes_idx[i])].cpu().numpy()\n",
    "            infection_evolution_male[i][j] = (attribute_infected == male).sum()\n",
    "            infection_evolution_female[i][j] = (attribute_infected == female).sum()\n",
    "\n",
    "    return infected_evolution, infection_evolution_male, infection_evolution_female #, infected_nodes_idx\n"
   ]
  },
  {
   "cell_type": "code",
   "execution_count": null,
   "metadata": {},
   "outputs": [],
   "source": []
  },
  {
   "cell_type": "code",
   "execution_count": 480,
   "metadata": {},
   "outputs": [],
   "source": [
    "def run_experiment (RUNS, IC_ITERS, THRESHOLD, INITIAL_NODE_SEED_STRATEGY)->dict:\n",
    "    results_dict = {}\n",
    "    np.random.seed(42)\n",
    "    if INITIAL_NODE_SEED_STRATEGY == 'min_degree':\n",
    "        #INITIAL_NODE_SEED = np.repeat(min_degree_node, RUNS)\n",
    "        INITIAL_NODE_SEED = np.random.choice(nodes_min_degree, RUNS)\n",
    "    elif INITIAL_NODE_SEED_STRATEGY == 'minEST_degree':\n",
    "        INITIAL_NODE_SEED = np.repeat(min_degree_node, RUNS)\n",
    "    elif INITIAL_NODE_SEED_STRATEGY == 'random':\n",
    "        INITIAL_NODE_SEED = np.random.choice(G.nodes, RUNS)\n",
    "    elif INITIAL_NODE_SEED_STRATEGY == 'top_min_degree':\n",
    "        INITIAL_NODE_SEED = np.repeat(top_min_degree_nodes,RUNS).reshape(len(top_min_degree_nodes),RUNS).T\n",
    "    \n",
    "    for G_name in wrappers_nx:\n",
    "        print(f'Running IC on {G_name}')\n",
    "        iterations_G = run_IC(wrappers_nx[G_name],\n",
    "                                initial_inf_nodes=INITIAL_NODE_SEED, threshold=THRESHOLD, iterations_IC = IC_ITERS, runs = RUNS)\n",
    "        assert RUNS == len(iterations_G)\n",
    "        assert all(len(run) == IC_ITERS for run in iterations_G), \"Mismatch in the number of iterations.\"\n",
    "\n",
    "        infection_per_iter, infection_evolution_male, infection_evolution_female = process_infected_evolution(iterations_G, wrappers[G_name], male, female)\n",
    "        results_dict[G_name] = {'total_infections': infection_per_iter.cumsum(axis=1), 'infection_male': infection_evolution_male, 'infection_female': infection_evolution_female}\n",
    "\n",
    "    return results_dict"
   ]
  },
  {
   "cell_type": "code",
   "execution_count": null,
   "metadata": {},
   "outputs": [],
   "source": []
  },
  {
   "cell_type": "code",
   "execution_count": 481,
   "metadata": {},
   "outputs": [
    {
     "name": "stdout",
     "output_type": "stream",
     "text": [
      "Results loaded from file\n"
     ]
    },
    {
     "data": {
      "text/plain": [
       "'temp_data/IC_google_IC_RUNS_2000_ITERS_15_TH_0.5_SEED_random.pkl'"
      ]
     },
     "execution_count": 481,
     "metadata": {},
     "output_type": "execute_result"
    }
   ],
   "source": [
    "RUNS = 1000 if DATASET == 'facebook' else 2000\n",
    "IC_ITERS = 15\n",
    "THRESHOLD = 0.5\n",
    "INITIAL_NODE_SEED_STRATEGY = ['min_degree', 'random', 'top_min_degree', 'minEST_degree'][1]\n",
    "\n",
    "exp_res_path = f'temp_data/IC_{DATASET}_IC_RUNS_{RUNS}_ITERS_{IC_ITERS}_TH_{THRESHOLD}_SEED_{INITIAL_NODE_SEED_STRATEGY}.pkl'\n",
    "if os.path.exists(exp_res_path):\n",
    "    with open(exp_res_path, 'rb') as f:\n",
    "        results_dict = pickle.load(f)\n",
    "    print('Results loaded from file')\n",
    "else:\n",
    "    results_dict = run_experiment(RUNS, IC_ITERS, THRESHOLD, INITIAL_NODE_SEED_STRATEGY)\n",
    "exp_res_path"
   ]
  },
  {
   "cell_type": "code",
   "execution_count": 482,
   "metadata": {},
   "outputs": [],
   "source": [
    "#Save results in temp_data \n",
    "if False:\n",
    "    with open(exp_res_path, 'wb') as f:\n",
    "        pickle.dump(results_dict, f)\n",
    "        print(exp_res_path)"
   ]
  },
  {
   "cell_type": "code",
   "execution_count": 483,
   "metadata": {},
   "outputs": [],
   "source": [
    "def plot_infection_evolution(infection_evolution_male, infection_evolution_female, ITER_PLOT,\n",
    "                             attribute_counts=attribute_counts, male=male, female=female, RUNS=RUNS, y_lim=None):\n",
    "    \"\"\"\n",
    "    Plots the infection evolution for male and female groups with confidence intervals.\n",
    "\n",
    "    Parameters:\n",
    "    infection_evolution_male: Numpy array of male infection evolution.\n",
    "    infection_evolution_female: Numpy array of female infection evolution.\n",
    "    ITER_PLOT: The number of iterations to plot.\n",
    "    attribute_counts: Dictionary with counts of male and female attributes.\n",
    "    male: The value representing male attribute.\n",
    "    female: The value representing female attribute.\n",
    "    RUNS: The number of runs used in the infection evolution data.\n",
    "    \"\"\"\n",
    "    \n",
    "    def CI(std, runs):\n",
    "        \"\"\"Calculate the 95% confidence interval based on standard deviation and number of runs.\"\"\"\n",
    "        Z = 1.96  # Z-value for 95% confidence\n",
    "        return Z * (std / np.sqrt(runs))\n",
    "    \n",
    "    f, axs = plt.subplots(1, 3, figsize=(15, 3))\n",
    "\n",
    "    # Number of infected - Male and Female\n",
    "    mean_male = infection_evolution_male[:, :ITER_PLOT].mean(axis=0)\n",
    "    std_male = infection_evolution_male[:, :ITER_PLOT].std(axis=0)\n",
    "    ci_male = CI(std_male, RUNS)\n",
    "    axs[0].plot(mean_male, label='Male')\n",
    "    axs[0].fill_between(range(ITER_PLOT), mean_male + ci_male, mean_male - ci_male, alpha=0.2)\n",
    "\n",
    "    mean_female = infection_evolution_female[:, :ITER_PLOT].mean(axis=0)\n",
    "    std_female = infection_evolution_female[:, :ITER_PLOT].std(axis=0)\n",
    "    ci_female = CI(std_female, RUNS)\n",
    "    axs[0].plot(mean_female, label='Female')\n",
    "    axs[0].fill_between(range(ITER_PLOT), mean_female + ci_female, mean_female - ci_female, alpha=0.2)\n",
    "\n",
    "    axs[0].set_title('# Infected')\n",
    "    axs[0].legend()\n",
    "\n",
    "    # Normalized portion of group infected - Male and Female\n",
    "    mean_male = (infection_evolution_male / attribute_counts[male])[:, :ITER_PLOT].mean(axis=0)\n",
    "    std_male = (infection_evolution_male / attribute_counts[male])[:, :ITER_PLOT].std(axis=0)\n",
    "    ci_male = CI(std_male, RUNS)\n",
    "    axs[1].plot(mean_male, label='Male')\n",
    "    axs[1].fill_between(range(ITER_PLOT), mean_male + ci_male, mean_male - ci_male, alpha=0.2)\n",
    "\n",
    "    mean_female = (infection_evolution_female / attribute_counts[female])[:, :ITER_PLOT].mean(axis=0)\n",
    "    std_female = (infection_evolution_female / attribute_counts[female])[:, :ITER_PLOT].std(axis=0)\n",
    "    ci_female = CI(std_female, RUNS)\n",
    "    axs[1].plot(mean_female, label='Female')\n",
    "    axs[1].fill_between(range(ITER_PLOT), mean_female + ci_female, mean_female - ci_female, alpha=0.2)\n",
    "\n",
    "    axs[1].set_title('Normalized portion of group infected')\n",
    "    axs[1].legend()\n",
    "\n",
    "    # Difference in normalized portion of group infected - Male vs Female\n",
    "    diffs = np.abs((infection_evolution_male / attribute_counts[male])[:, :ITER_PLOT] - \\\n",
    "            (infection_evolution_female / attribute_counts[female])[:, :ITER_PLOT])\n",
    "    mean_diff = diffs.mean(axis=0)\n",
    "    std_diff = diffs.std(axis=0)\n",
    "    ci_diff = CI(std_diff, RUNS)\n",
    "    axs[2].plot(mean_diff, label='Disparity')\n",
    "    axs[2].fill_between(range(ITER_PLOT), mean_diff + ci_diff, mean_diff - ci_diff, alpha=0.2)\n",
    "    axs[2].set_title('Difference in normalized portion of group infected')\n",
    "    if y_lim is not None:\n",
    "        axs[2].set_ylim(y_lim)\n",
    "\n",
    "    # Show the plot\n",
    "    plt.tight_layout()\n",
    "    plt.show()\n",
    "\n",
    "def wrap_plot_infection_evolution(res_dict, ITER_PLOT=IC_ITERS):\n",
    "    plot_infection_evolution(res_dict['infection_male'], res_dict['infection_female'], ITER_PLOT)\n",
    "\n",
    "\n",
    "cmap = plt.get_cmap('tab10')\n",
    "color_methods = {\n",
    "    'G': 'black',\n",
    "    'COS': cmap(0),\n",
    "    #'cosine_weak': cmap(4),\n",
    "    #'deepwalk_weak': cmap(5),\n",
    "    #'deepwalk_strong': cmap(3),\n",
    "    'RAND': cmap(1),\n",
    "    'ERP': cmap(2),\n",
    "    #'ERP_strong': cmap(6),\n",
    "    'SDRF': cmap(7),\n",
    "    'FOSR': cmap(8)\n",
    "}\n",
    "\n",
    "\n",
    "\n",
    "def plot_method_comparison(results_dict, ITER_PLOT, attribute_counts=attribute_counts, male=male, female=female, RUNS=RUNS, var='CI'):\n",
    "    \"\"\"\n",
    "    Plots a comparison of different infection methods.\n",
    "\n",
    "    Parameters:\n",
    "    results_dict: Dictionary where each key is a method name and value is a dictionary containing\n",
    "                  'infection_evolution_male' and 'infection_evolution_female' arrays.\n",
    "    ITER_PLOT: The number of iterations to plot.\n",
    "    attribute_counts: Dictionary with counts of male and female attributes.\n",
    "    male: The value representing male attribute.\n",
    "    female: The value representing female attribute.\n",
    "    RUNS: The number of runs used in the infection evolution data.\n",
    "    \"\"\"\n",
    "    \n",
    "    def CI(std, runs):\n",
    "        \"\"\"Calculate the 95% confidence interval based on standard deviation and number of runs.\"\"\"\n",
    "        Z = 1.96  # Z-value for 95% confidence\n",
    "        return Z * (std / np.sqrt(runs))\n",
    "\n",
    "    def plot_line(ax, data, label, color=None, var='CI'):\n",
    "        mean = data.mean(axis=0)\n",
    "        std = data.std(axis=0)\n",
    "        ci = CI(std, RUNS)\n",
    "        var_data = std if var == 'std' else ci\n",
    "        ax.plot(mean, label=label, color=color)\n",
    "        ax.fill_between(range(ITER_PLOT), mean + var_data, mean - var_data, alpha=0.1, color=color)\n",
    "\n",
    "    # Create a subplot grid\n",
    "    f, axs = plt.subplots(1, 5, figsize=(15, 3))\n",
    "\n",
    "    for method, data in results_dict.items():\n",
    "        infection_evolution_male = data['infection_male']\n",
    "        infection_evolution_female = data['infection_female']\n",
    "\n",
    "        # 1. Total infected (male + female)\n",
    "        total_infected = (infection_evolution_male + infection_evolution_female)[:, :ITER_PLOT]\n",
    "        plot_line(axs[0], total_infected, method, var=var, color=color_methods[method])\n",
    "        \n",
    "        # 2. Proportion of male infected\n",
    "        male_prop = (infection_evolution_male / attribute_counts[male])[:, :ITER_PLOT]\n",
    "        plot_line(axs[1], male_prop, method, var=var, color=color_methods[method])\n",
    "        axs[1].set_ylim(None, 1)\n",
    "\n",
    "        # 3. Proportion of female infected\n",
    "        female_prop = (infection_evolution_female / attribute_counts[female])[:, :ITER_PLOT]\n",
    "        plot_line(axs[2], female_prop, method, var=var, color=color_methods[method])\n",
    "        axs[2].set_ylim(None, 1)\n",
    "\n",
    "        # 4. Difference in normalized portion of group infected (male - female)\n",
    "        #diffs = (male_prop - female_prop)/male_prop\n",
    "        diffs = male_prop - female_prop\n",
    "        plot_line(axs[3], diffs, method, var=var, color=color_methods[method])\n",
    "\n",
    "        # Relative difference\n",
    "        #rel_diffs = np.abs(male_prop - female_prop)/male_prop\n",
    "        rel_diffs = np.abs(male_prop - female_prop)/np.maximum(female_prop, male_prop) \n",
    "        plot_line(axs[4], rel_diffs, method, var=var, color=color_methods[method])\n",
    "\n",
    "    # Set titles and legends for each subplot\n",
    "    axs[0].set_title('Total Infected')\n",
    "    axs[0].legend(ncols=2)\n",
    "    axs[1].set_title('Infected Males')\n",
    "    axs[2].set_title('Infected Females')\n",
    "    axs[3].set_title('Infected Diference')\n",
    "    axs[4].set_title('Relative Difference')\n",
    "    plt.suptitle(f'Method Comparison ({DATASET} - Links = {N_LINKS}, {THRESHOLD}, {INITIAL_NODE_SEED_STRATEGY})')\n",
    "    # Adjust layout for better visualization\n",
    "    plt.tight_layout()\n",
    "    plt.show()\n"
   ]
  },
  {
   "cell_type": "code",
   "execution_count": 484,
   "metadata": {},
   "outputs": [],
   "source": [
    "ITER_PLOT = 8"
   ]
  },
  {
   "cell_type": "code",
   "execution_count": 489,
   "metadata": {},
   "outputs": [
    {
     "data": {
      "image/png": "[encoded data removed]",
      "text/plain": [
       "<Figure size 1500x300 with 5 Axes>"
      ]
     },
     "metadata": {},
     "output_type": "display_data"
    }
   ],
   "source": [
    "ori_dict = {'G': results_dict['G']}\n",
    "plot_method_comparison(ori_dict, ITER_PLOT, attribute_counts, male, female, RUNS, var='ci')"
   ]
  },
  {
   "cell_type": "code",
   "execution_count": 486,
   "metadata": {},
   "outputs": [
    {
     "data": {
      "image/png": "[encoded data removed]",
      "text/plain": [
       "<Figure size 1500x300 with 5 Axes>"
      ]
     },
     "metadata": {},
     "output_type": "display_data"
    }
   ],
   "source": [
    "plot_method_comparison(results_dict, ITER_PLOT, attribute_counts, male, female, RUNS, var='ci')"
   ]
  },
  {
   "cell_type": "code",
   "execution_count": null,
   "metadata": {},
   "outputs": [],
   "source": []
  },
  {
   "cell_type": "code",
   "execution_count": 487,
   "metadata": {},
   "outputs": [
    {
     "ename": "NameError",
     "evalue": "name 'STOP' is not defined",
     "output_type": "error",
     "traceback": [
      "\u001b[1;31m---------------------------------------------------------------------------\u001b[0m",
      "\u001b[1;31mNameError\u001b[0m                                 Traceback (most recent call last)",
      "Cell \u001b[1;32mIn[487], line 1\u001b[0m\n\u001b[1;32m----> 1\u001b[0m \u001b[43mSTOP\u001b[49m\n",
      "\u001b[1;31mNameError\u001b[0m: name 'STOP' is not defined"
     ]
    }
   ],
   "source": [
    "STOP"
   ]
  },
  {
   "cell_type": "code",
   "execution_count": null,
   "metadata": {},
   "outputs": [],
   "source": []
  },
  {
   "cell_type": "markdown",
   "metadata": {},
   "source": [
    "## Total Infected people per iteration"
   ]
  },
  {
   "cell_type": "code",
   "execution_count": null,
   "metadata": {},
   "outputs": [],
   "source": []
  },
  {
   "cell_type": "code",
   "execution_count": null,
   "metadata": {},
   "outputs": [],
   "source": [
    "import numpy as np\n",
    "\n",
    "iterations_G = []\n",
    "iterations_G_erp = []\n",
    "iterations_G_cos = []\n",
    "iterations_G_rand = []\n",
    "\n",
    "for _ in tqdm(range(80)):\n",
    "    th = .2\n",
    "    _, iter_G=IC_model(G, initial_inf_nodes=[min_degree_node], threshold=th, iterations_IC=25)\n",
    "    _, iter_G_erp=IC_model(G_erp,  initial_inf_nodes=[min_degree_node], threshold=th, iterations_IC=25)\n",
    "    _, iter_G_cos=IC_model(G_cos,  initial_inf_nodes=[min_degree_node], threshold=th, iterations_IC=25)\n",
    "    _, iter_G_rand=IC_model(G_rand, initial_inf_nodes=[min_degree_node], threshold=th, iterations_IC=25)\n",
    "\n",
    "    iterations_G.append([iteration['node_count'][1]+iteration['node_count'][2] for iteration in iter_G])\n",
    "    iterations_G_erp.append([iteration['node_count'][1]+iteration['node_count'][2] for iteration in iter_G_erp])\n",
    "    iterations_G_cos.append([iteration['node_count'][1]+iteration['node_count'][2] for iteration in iter_G_cos])\n",
    "    iterations_G_rand.append([iteration['node_count'][1]+iteration['node_count'][2] for iteration in iter_G_rand])\n",
    "\n",
    "iterations_G = np.array(iterations_G)\n",
    "iterations_G_erp = np.array(iterations_G_erp)\n",
    "iterations_G_cos = np.array(iterations_G_cos)\n",
    "iterations_G_rand = np.array(iterations_G_rand)"
   ]
  },
  {
   "cell_type": "code",
   "execution_count": 43,
   "metadata": {},
   "outputs": [],
   "source": [
    "IC_ITER = 25"
   ]
  },
  {
   "cell_type": "code",
   "execution_count": null,
   "metadata": {},
   "outputs": [],
   "source": [
    "fig, ax = plt.subplots(1, figsize=(5, 3))\n",
    "#show mean and std of each trend\n",
    "mean_G = iterations_G.mean(axis=0)[:IC_ITER]\n",
    "std_G = iterations_G.std(axis=0)[:IC_ITER]\n",
    "ax.plot(mean_G, label='Original')\n",
    "ax.fill_between(range(IC_ITER), mean_G-std_G, mean_G+std_G, alpha=0.1)\n",
    "\n",
    "mean_G_erp = iterations_G_erp.mean(axis=0)[:IC_ITER]\n",
    "std_G_erp = iterations_G_erp.std(axis=0)[:IC_ITER]\n",
    "ax.plot(mean_G_erp, label='ERP')\n",
    "ax.fill_between(range(IC_ITER), mean_G_erp-std_G_erp, mean_G_erp+std_G_erp, alpha=0.1)\n",
    "\n",
    "mean_G_cos = iterations_G_cos.mean(axis=0)[:IC_ITER]\n",
    "std_G_cos = iterations_G_cos.std(axis=0)[:IC_ITER]\n",
    "ax.plot(mean_G_cos, label='Cosine')\n",
    "ax.fill_between(range(IC_ITER), mean_G_cos-std_G_cos, mean_G_cos+std_G_cos, alpha=0.1)\n",
    "\n",
    "mean_G_rand = iterations_G_rand.mean(axis=0)[:IC_ITER]\n",
    "std_G_rand = iterations_G_rand.std(axis=0)[:IC_ITER]\n",
    "ax.plot(mean_G_rand, label='Random')\n",
    "ax.fill_between(range(IC_ITER), mean_G_rand-std_G_rand, mean_G_rand+std_G_rand, alpha=0.1)\n",
    "\n",
    "ax.axhline(GW.num_nodes, color='black', linestyle='--')\n",
    "#ax.set_yscale('log')\n",
    "ax.set_title('IC')\n",
    "\n",
    "ax.set_xlabel('Iterations')\n",
    "ax.set_ylabel('# infected nodes')\n",
    "ax.legend()\n",
    "plt.tight_layout()\n",
    "plt.show()"
   ]
  },
  {
   "cell_type": "code",
   "execution_count": null,
   "metadata": {},
   "outputs": [],
   "source": [
    "STOP"
   ]
  },
  {
   "cell_type": "code",
   "execution_count": 45,
   "metadata": {},
   "outputs": [],
   "source": [
    "THRESHOLD_CONFS = [0.2, 0.5, 0.9]\n",
    "ADDED_LINKS_CONF = [100, 1000]"
   ]
  },
  {
   "cell_type": "code",
   "execution_count": null,
   "metadata": {},
   "outputs": [],
   "source": [
    "exp_results = dict()\n",
    "for threshold in THRESHOLD_CONFS:\n",
    "    for added_links in ADDED_LINKS_CONF:\n",
    "        iterations = dict()\n",
    "        wrappers = load_augmented_graph_IC(DATASET, added_links)\n",
    "        for g_name in wrappers:\n",
    "                iterations[g_name] = []\n",
    "\n",
    "        for _ in tqdm(range(80), desc=f'Threshold: {threshold}, Links: {added_links}'):\n",
    "            for g_name in wrappers:\n",
    "                G = to_nx(wrappers[g_name])\n",
    "                _, iter_G=IC_model(G, initial_inf_nodes=[min_degree_node], threshold=threshold, iterations_IC=16)\n",
    "                iterations[g_name].append([iteration['node_count'][1]+iteration['node_count'][2] for iteration in iter_G])\n",
    "\n",
    "        for g_name in wrappers:\n",
    "            iterations[g_name] = np.array(iterations[g_name])\n",
    "        \n",
    "        exp_results[(threshold, added_links)] = iterations"
   ]
  },
  {
   "cell_type": "code",
   "execution_count": null,
   "metadata": {},
   "outputs": [],
   "source": [
    "string_thresholds = '-'.join([str(th) for th in THRESHOLD_CONFS])\n",
    "string_links = '-'.join([str(th) for th in ADDED_LINKS_CONF])\n",
    "string_thresholds"
   ]
  },
  {
   "cell_type": "code",
   "execution_count": 54,
   "metadata": {},
   "outputs": [],
   "source": [
    "#with open(f'temp_data/IC_RESULTS_{DATASET}_THRESHOLDS_{string_thresholds}_LINKS_{string_links}.pkl', 'wb') as f:\n",
    "#    pickle.dump(exp_results, f)"
   ]
  },
  {
   "cell_type": "code",
   "execution_count": null,
   "metadata": {},
   "outputs": [],
   "source": [
    "exp_results.keys()"
   ]
  },
  {
   "cell_type": "code",
   "execution_count": null,
   "metadata": {},
   "outputs": [],
   "source": [
    "f, axs = plt.subplots(len(ADDED_LINKS_CONF), len(THRESHOLD_CONFS),figsize=(12, 5))\n",
    "\n",
    "iters_lim = {0.2:10, 0.5:10, 0.9:10}\n",
    "\n",
    "for j, threshold in enumerate(THRESHOLD_CONFS):\n",
    "    for i, added_links in enumerate(ADDED_LINKS_CONF):\n",
    "        for g_name in exp_results[(threshold, added_links)]:\n",
    "            mean_G = exp_results[(threshold, added_links)][g_name].mean(axis=0)[:iters_lim[threshold]+1]\n",
    "            std_G = exp_results[(threshold, added_links)][g_name].std(axis=0)[:iters_lim[threshold]+1]\n",
    "            if g_name =='ERP':\n",
    "                label_name = 'ERG'\n",
    "                color = 'darkgreen'\n",
    "                lw = 2\n",
    "            else:\n",
    "                label_name = g_name\n",
    "                color = None\n",
    "                lw = 1\n",
    "            axs[i,j].plot(mean_G, label=label_name, color=color, lw=lw)\n",
    "            axs[i,j].fill_between(range(iters_lim[threshold]+1), mean_G-std_G, mean_G+std_G, alpha=0.05)\n",
    "        axs[i,j].axhline(GW.num_nodes, color='black', linestyle='--')\n",
    "        axs[i,j].set_title(f'Threshold: {threshold}, Added links: {added_links}')\n",
    "        axs[i,j].set_xlabel('Iterations')\n",
    "        axs[i,j].set_ylabel('# infected nodes')\n",
    "        if i==0 and j==0:\n",
    "            axs[i,j].legend()\n",
    "plt.tight_layout()\n",
    "plt.show()"
   ]
  },
  {
   "cell_type": "code",
   "execution_count": null,
   "metadata": {},
   "outputs": [],
   "source": []
  },
  {
   "cell_type": "code",
   "execution_count": null,
   "metadata": {},
   "outputs": [],
   "source": [
    "STOP"
   ]
  },
  {
   "cell_type": "code",
   "execution_count": 90,
   "metadata": {},
   "outputs": [],
   "source": []
  },
  {
   "cell_type": "code",
   "execution_count": null,
   "metadata": {},
   "outputs": [],
   "source": []
  },
  {
   "cell_type": "markdown",
   "metadata": {},
   "source": [
    "**SIR**"
   ]
  },
  {
   "cell_type": "code",
   "execution_count": null,
   "metadata": {},
   "outputs": [],
   "source": [
    "import numpy as np\n",
    "\n",
    "BETA = 0.8\n",
    "\n",
    "iterations_G = []\n",
    "iterations_G_erp = []\n",
    "iterations_G_cos = []\n",
    "iterations_G_rand = []\n",
    "\n",
    "for _ in tqdm(range(40)):\n",
    "    iter_G=SIR(G, beta=BETA)\n",
    "    iter_G_erp=SIR(G_erp, beta=BETA)\n",
    "    iter_G_cos=SIR(G_cos, beta=BETA)\n",
    "    iter_G_rand=SIR(G_rand, beta=BETA)\n",
    "\n",
    "    iterations_G.append([iteration['node_count'][1] for iteration in iter_G])\n",
    "    iterations_G_erp.append([iteration['node_count'][1] for iteration in iter_G_erp])\n",
    "    iterations_G_cos.append([iteration['node_count'][1] for iteration in iter_G_cos])\n",
    "    iterations_G_rand.append([iteration['node_count'][1] for iteration in iter_G_rand])\n",
    "\n",
    "iterations_G = np.array(iterations_G)\n",
    "iterations_G_erp = np.array(iterations_G_erp)\n",
    "iterations_G_cos = np.array(iterations_G_cos)\n",
    "iterations_G_rand = np.array(iterations_G_rand)"
   ]
  },
  {
   "cell_type": "code",
   "execution_count": null,
   "metadata": {},
   "outputs": [],
   "source": [
    "len(iterations_G)"
   ]
  },
  {
   "cell_type": "code",
   "execution_count": null,
   "metadata": {},
   "outputs": [],
   "source": [
    "SIR_ITER = 5\n",
    "\n",
    "\n",
    "fig, ax = plt.subplots(1, figsize=(5, 3))\n",
    "#show mean and std of each trend\n",
    "mean_G = iterations_G.mean(axis=0)[:SIR_ITER]\n",
    "std_G = iterations_G.std(axis=0)[:SIR_ITER]\n",
    "ax.plot(mean_G, label='Original')\n",
    "ax.fill_between(range(SIR_ITER), mean_G-std_G, mean_G+std_G, alpha=0.2)\n",
    "\n",
    "mean_G_erp = iterations_G_erp.mean(axis=0)[:SIR_ITER]\n",
    "std_G_erp = iterations_G_erp.std(axis=0)[:SIR_ITER]\n",
    "ax.plot(mean_G_erp, label='ERP')\n",
    "ax.fill_between(range(SIR_ITER), mean_G_erp-std_G_erp, mean_G_erp+std_G_erp, alpha=0.2)\n",
    "\n",
    "mean_G_cos = iterations_G_cos.mean(axis=0)[:SIR_ITER]\n",
    "std_G_cos = iterations_G_cos.std(axis=0)[:SIR_ITER]\n",
    "ax.plot(mean_G_cos, label='Cosine')\n",
    "ax.fill_between(range(SIR_ITER), mean_G_cos-std_G_cos, mean_G_cos+std_G_cos, alpha=0.2)\n",
    "\n",
    "mean_G_rand = iterations_G_rand.mean(axis=0)[:SIR_ITER]\n",
    "std_G_rand = iterations_G_rand.std(axis=0)[:SIR_ITER]\n",
    "ax.plot(mean_G_rand, label='Random')\n",
    "ax.fill_between(range(SIR_ITER), mean_G_rand-std_G_rand, mean_G_rand+std_G_rand, alpha=0.2)\n",
    "\n",
    "\n",
    "#ax.set_yscale('log')\n",
    "ax.set_title('SIR')\n",
    "\n",
    "ax.set_xlabel('Iterations')\n",
    "ax.set_ylabel('# infected nodes')\n",
    "ax.legend()\n",
    "plt.tight_layout()\n",
    "plt.show()"
   ]
  },
  {
   "cell_type": "markdown",
   "metadata": {},
   "source": [
    "# Visualize random geometric graph"
   ]
  },
  {
   "cell_type": "code",
   "execution_count": null,
   "metadata": {},
   "outputs": [],
   "source": [
    "STOP"
   ]
  },
  {
   "cell_type": "code",
   "execution_count": 42,
   "metadata": {},
   "outputs": [],
   "source": [
    "import networkx as nx\n",
    "import matplotlib.pyplot as plt\n",
    "import warnings\n",
    "warnings.filterwarnings(\"ignore\")\n",
    "%matplotlib inline"
   ]
  },
  {
   "cell_type": "code",
   "execution_count": 43,
   "metadata": {},
   "outputs": [],
   "source": [
    "# Network topology\n",
    "g = nx.random_geometric_graph(500, 0.1, seed=896803) # Random Clustered graph 1000 nodes - distance =0.05, no self loops\n",
    "\n",
    "pos = nx.get_node_attributes(g, \"pos\")"
   ]
  },
  {
   "cell_type": "code",
   "execution_count": 44,
   "metadata": {},
   "outputs": [],
   "source": [
    "# get the central node (central regarding the distance to 0.5, 0.5)\n",
    "dmin = 1\n",
    "ncenter = 0\n",
    "for n in pos:\n",
    "    x, y = pos[n]\n",
    "    d = (x - 0.5) ** 2 + (y - 0.5) ** 2\n",
    "    if d < dmin:\n",
    "        ncenter = n\n",
    "        dmin = d\n",
    "\n",
    "# color by path length from node near center\n",
    "p = dict(nx.single_source_shortest_path_length(g, ncenter))"
   ]
  },
  {
   "cell_type": "code",
   "execution_count": null,
   "metadata": {},
   "outputs": [],
   "source": [
    "plt.figure(figsize=(6, 6))\n",
    "nx.draw_networkx_edges(g, pos, alpha=0.2, edge_color=\"grey\")\n",
    "nx.draw_networkx_nodes(\n",
    "    g,\n",
    "    pos,\n",
    "    nodelist=list(p.keys()),\n",
    "    node_size=40,\n",
    "    node_color=list(p.values()),\n",
    "    cmap=plt.cm.Reds_r,\n",
    "    alpha=0.8\n",
    ")\n",
    "\n",
    "plt.xlim(-0.05, 1.05)\n",
    "plt.ylim(-0.05, 1.05)\n",
    "plt.axis(\"off\")\n",
    "plt.show()"
   ]
  },
  {
   "cell_type": "code",
   "execution_count": null,
   "metadata": {},
   "outputs": [],
   "source": []
  },
  {
   "cell_type": "code",
   "execution_count": null,
   "metadata": {},
   "outputs": [],
   "source": []
  }
 ],
 "metadata": {
  "kernelspec": {
   "display_name": "effres",
   "language": "python",
   "name": "python3"
  },
  "language_info": {
   "codemirror_mode": {
    "name": "ipython",
    "version": 3
   },
   "file_extension": ".py",
   "mimetype": "text/x-python",
   "name": "python",
   "nbconvert_exporter": "python",
   "pygments_lexer": "ipython3",
   "version": "3.9.16"
  }
 },
 "nbformat": 4,
 "nbformat_minor": 2
}
